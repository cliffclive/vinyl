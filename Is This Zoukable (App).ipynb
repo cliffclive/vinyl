{
 "cells": [
  {
   "cell_type": "markdown",
   "metadata": {},
   "source": [
    "## Python Imports\n",
    "#### TODO: remove anything not used in the code"
   ]
  },
  {
   "cell_type": "code",
   "execution_count": 1,
   "metadata": {
    "ExecuteTime": {
     "end_time": "2019-12-24T06:12:02.331709Z",
     "start_time": "2019-12-24T06:11:56.634396Z"
    }
   },
   "outputs": [
    {
     "name": "stderr",
     "output_type": "stream",
     "text": [
      "Using TensorFlow backend.\n"
     ]
    }
   ],
   "source": [
    "import keras\n",
    "import librosa\n",
    "import spotipy\n",
    "import numpy as np\n",
    "\n",
    "import src.vinyl.db_manager as crates\n",
    "from src.obtain.spotify_metadata import generate_token, download_playlist_metadata\n",
    "from src.vinyl.build_datasets import build_dataset"
   ]
  },
  {
   "cell_type": "markdown",
   "metadata": {},
   "source": [
    "## [Globals](https://www.geeksforgeeks.org/global-local-variables-python/)"
   ]
  },
  {
   "cell_type": "code",
   "execution_count": null,
   "metadata": {
    "ExecuteTime": {
     "end_time": "2019-12-24T06:12:02.343818Z",
     "start_time": "2019-12-24T06:12:02.335433Z"
    }
   },
   "outputs": [],
   "source": [
    "# globals\n",
    "spotify_username = 'djconxn'\n",
    "user_id = \"spotify:user:djconxn\"\n",
    "\n",
    "candidates_uri = 'spotify:playlist:69K5ogTF87NeSFvU9ePI3x'"
   ]
  },
  {
   "cell_type": "markdown",
   "metadata": {},
   "source": [
    "#### TODO: add `features_dict` to model saving schema"
   ]
  },
  {
   "cell_type": "code",
   "execution_count": 2,
   "metadata": {
    "ExecuteTime": {
     "end_time": "2019-12-24T06:12:02.343818Z",
     "start_time": "2019-12-24T06:12:02.335433Z"
    }
   },
   "outputs": [],
   "source": [
    "model_save_path = \"models/zouk_classifier_spectral_LSTM3.h5\"\n",
    "\n",
    "features_dict = {\n",
    "    librosa.feature.mfcc : {'n_mfcc':12},\n",
    "    librosa.feature.spectral_centroid : {},\n",
    "    librosa.feature.chroma_stft : {'n_chroma':12},\n",
    "    librosa.feature.spectral_contrast : {'n_bands':6},\n",
    "    #librosa.feature.tempogram : {'win_length':192}\n",
    "}"
   ]
  },
  {
   "cell_type": "markdown",
   "metadata": {},
   "source": [
    "# Predict Zoukable Songs in Playlist\n",
    "\n",
    "## User Input: Playlist Name + URI\n",
    "Make sure to update the `playlist_name` and `playlist_uri` variables from the Spotify playlist to be screened."
   ]
  },
  {
   "cell_type": "code",
   "execution_count": 3,
   "metadata": {
    "ExecuteTime": {
     "end_time": "2019-12-24T06:12:02.353547Z",
     "start_time": "2019-12-24T06:12:02.346628Z"
    }
   },
   "outputs": [],
   "source": [
    "playlist_name = \"release_radar\"\n",
    "playlist_uri = \"https://open.spotify.com/playlist/37i9dQZEVXbgM80lMZEYvm?si=K2cQ1BPUSTu22v_NGvtmNA\""
   ]
  },
  {
   "cell_type": "code",
   "execution_count": 4,
   "metadata": {
    "ExecuteTime": {
     "end_time": "2019-12-24T06:12:59.818675Z",
     "start_time": "2019-12-24T06:12:02.358547Z"
    }
   },
   "outputs": [
    {
     "name": "stdout",
     "output_type": "stream",
     "text": [
      "WARNING:tensorflow:From /Users/cliffclive/miniconda3/envs/vinyl/lib/python3.7/site-packages/keras/backend/tensorflow_backend.py:74: The name tf.get_default_graph is deprecated. Please use tf.compat.v1.get_default_graph instead.\n",
      "\n",
      "WARNING:tensorflow:From /Users/cliffclive/miniconda3/envs/vinyl/lib/python3.7/site-packages/keras/backend/tensorflow_backend.py:517: The name tf.placeholder is deprecated. Please use tf.compat.v1.placeholder instead.\n",
      "\n",
      "WARNING:tensorflow:From /Users/cliffclive/miniconda3/envs/vinyl/lib/python3.7/site-packages/keras/backend/tensorflow_backend.py:4138: The name tf.random_uniform is deprecated. Please use tf.random.uniform instead.\n",
      "\n",
      "WARNING:tensorflow:From /Users/cliffclive/miniconda3/envs/vinyl/lib/python3.7/site-packages/keras/backend/tensorflow_backend.py:133: The name tf.placeholder_with_default is deprecated. Please use tf.compat.v1.placeholder_with_default instead.\n",
      "\n",
      "WARNING:tensorflow:From /Users/cliffclive/miniconda3/envs/vinyl/lib/python3.7/site-packages/keras/backend/tensorflow_backend.py:3445: calling dropout (from tensorflow.python.ops.nn_ops) with keep_prob is deprecated and will be removed in a future version.\n",
      "Instructions for updating:\n",
      "Please use `rate` instead of `keep_prob`. Rate should be set to `rate = 1 - keep_prob`.\n",
      "WARNING:tensorflow:From /Users/cliffclive/miniconda3/envs/vinyl/lib/python3.7/site-packages/keras/backend/tensorflow_backend.py:174: The name tf.get_default_session is deprecated. Please use tf.compat.v1.get_default_session instead.\n",
      "\n",
      "WARNING:tensorflow:From /Users/cliffclive/miniconda3/envs/vinyl/lib/python3.7/site-packages/keras/optimizers.py:790: The name tf.train.Optimizer is deprecated. Please use tf.compat.v1.train.Optimizer instead.\n",
      "\n",
      "WARNING:tensorflow:From /Users/cliffclive/miniconda3/envs/vinyl/lib/python3.7/site-packages/tensorflow/python/ops/nn_impl.py:180: add_dispatch_support.<locals>.wrapper (from tensorflow.python.ops.array_ops) is deprecated and will be removed in a future version.\n",
      "Instructions for updating:\n",
      "Use tf.where in 2.0, which has the same broadcast rule as np.where\n"
     ]
    }
   ],
   "source": [
    "token=generate_token(username=spotify_username)\n",
    "sp = spotipy.Spotify(auth=token)\n",
    "\n",
    "songs = crates.download_playlist_songs(sp, user_id, playlist_name, playlist_uri)\n",
    "\n",
    "for song_id in songs:\n",
    "    crates.get_preview_mp3(song_id)\n",
    "\n",
    "playlist_data = build_dataset(songs, features_dict)\n",
    "\n",
    "model = keras.models.load_model(model_save_path)\n",
    "\n",
    "zoukable_preds = model.predict(playlist_data)\n",
    "\n",
    "candidates = list(set(np.array(songs)[(zoukable_preds > 0.85).flatten()]))\n",
    "\n",
    "zoukables = crates.get_playlist_songs(\"zoukables\")\n",
    "candidates = [x for x in candidates if x not in zoukables]\n",
    "\n",
    "with open('zoukables_candidates.txt', 'w') as file:\n",
    "    file.writelines('\\n'.join(candidates))"
   ]
  },
  {
   "cell_type": "markdown",
   "metadata": {},
   "source": [
    "# Add Tracks to Candidates Playlist"
   ]
  },
  {
   "cell_type": "code",
   "execution_count": 8,
   "metadata": {
    "ExecuteTime": {
     "end_time": "2019-12-24T23:14:52.716083Z",
     "start_time": "2019-12-24T23:14:52.676737Z"
    }
   },
   "outputs": [
    {
     "name": "stdout",
     "output_type": "stream",
     "text": [
      "Writing src/vinyl/add_songs_to_playlist.py\n"
     ]
    }
   ],
   "source": [
    "# This can be run as a commandline utility from src/vinyl/add_songs_to_playlist.py\n",
    "\n",
    "import pprint\n",
    "import sys\n",
    "\n",
    "import spotipy.util as util\n",
    "\n",
    "'''\n",
    "if len(sys.argv) > 3:\n",
    "    user_id = sys.argv[1]\n",
    "    candidates_uri = sys.argv[2]\n",
    "    candidates = sys.argv[3:]\n",
    "else:\n",
    "    print \"Usage: %s username playlist_id track_id ...\" % (sys.argv[0],)\n",
    "    sys.exit()\n",
    "'''\n",
    "\n",
    "\n",
    "scope = 'playlist-modify-public'\n",
    "token = util.prompt_for_user_token(user_id, scope)\n",
    "\n",
    "if token:\n",
    "    sp = spotipy.Spotify(auth=token)\n",
    "    sp.trace = False\n",
    "    while candidates:\n",
    "        end = min(100, len(candidates))\n",
    "        results = sp.user_playlist_add_tracks(user_id, candidates_uri, candidates[:end])\n",
    "        candidates = candidates[end:]\n",
    "        print (results)\n",
    "else:\n",
    "    print (\"Can't get token for\", user_id)"
   ]
  },
  {
   "cell_type": "code",
   "execution_count": null,
   "metadata": {},
   "outputs": [],
   "source": []
  }
 ],
 "metadata": {
  "kernelspec": {
   "display_name": "vinyl",
   "language": "python",
   "name": "vinyl"
  },
  "language_info": {
   "codemirror_mode": {
    "name": "ipython",
    "version": 3
   },
   "file_extension": ".py",
   "mimetype": "text/x-python",
   "name": "python",
   "nbconvert_exporter": "python",
   "pygments_lexer": "ipython3",
   "version": "3.7.3"
  },
  "toc": {
   "base_numbering": 1,
   "nav_menu": {},
   "number_sections": true,
   "sideBar": true,
   "skip_h1_title": false,
   "title_cell": "Table of Contents",
   "title_sidebar": "Contents",
   "toc_cell": false,
   "toc_position": {
    "height": "calc(100% - 180px)",
    "left": "10px",
    "top": "150px",
    "width": "276.6px"
   },
   "toc_section_display": true,
   "toc_window_display": true
  }
 },
 "nbformat": 4,
 "nbformat_minor": 2
}
