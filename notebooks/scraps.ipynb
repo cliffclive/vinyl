{
 "cells": [
  {
   "cell_type": "code",
   "execution_count": null,
   "metadata": {},
   "outputs": [],
   "source": [
    "cols = ['time', 'section', 'bar', 'beat', 'tatum', 'duration',\n",
    "       'loudness_start', 'loudness_max', 'attack', \n",
    "       'pitch_00', 'pitch_01', 'pitch_02', 'pitch_03', 'pitch_04', 'pitch_05',\n",
    "       'pitch_06', 'pitch_07', 'pitch_08', 'pitch_09', 'pitch_10', 'pitch_11',\n",
    "       'timbre_00', 'timbre_01', 'timbre_02', 'timbre_03', 'timbre_04',\n",
    "       'timbre_05', 'timbre_06', 'timbre_07', 'timbre_08', 'timbre_09',\n",
    "       'timbre_10', 'timbre_11']\n"
   ]
  }
 ],
 "metadata": {
  "kernelspec": {
   "display_name": "Python 3",
   "language": "python",
   "name": "python3"
  },
  "language_info": {
   "codemirror_mode": {
    "name": "ipython",
    "version": 3
   },
   "file_extension": ".py",
   "mimetype": "text/x-python",
   "name": "python",
   "nbconvert_exporter": "python",
   "pygments_lexer": "ipython3",
   "version": "3.6.8"
  }
 },
 "nbformat": 4,
 "nbformat_minor": 2
}
